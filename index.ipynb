{
 "cells": [
  {
   "cell_type": "markdown",
   "id": "edccebfc",
   "metadata": {},
   "source": [
    " # Imports\n",
    " \n"
   ]
  },
  {
   "cell_type": "code",
   "execution_count": 1,
   "id": "572919f6",
   "metadata": {},
   "outputs": [],
   "source": [
    "import random #To generate a random response"
   ]
  },
  {
   "cell_type": "markdown",
   "id": "cc6df397",
   "metadata": {},
   "source": [
    "# Python Dictionaries"
   ]
  },
  {
   "cell_type": "code",
   "execution_count": 2,
   "id": "fbb01d6f",
   "metadata": {},
   "outputs": [],
   "source": [
    "# Mapping intents with a list of keywords\n",
    "#Intents - keys \n",
    "#Keywords - value\n",
    "intents = {\n",
    "    \"Greeting_intent\": ['hi', 'hello', 'good morning'],\n",
    "    \"thanks_intent\": ['thanks', 'thank you'],\n",
    "    \"time_intent\": ['working', 'hours','time', 'long'],\n",
    "    \"closing\":['bye', 'see you']\n",
    "    \n",
    "}"
   ]
  },
  {
   "cell_type": "code",
   "execution_count": 3,
   "id": "8f201139",
   "metadata": {},
   "outputs": [],
   "source": [
    "responses= {\n",
    "    \"Greeting_intent\": ['Hello, my name is ChatBot. How may I help you?'],\n",
    "    \"time_intent\": ['I work from 9AM to 9PM'],\n",
    "    \"thanks_intent\": ['You are welcome', 'I\\'m glad to be of assistance to you!'],\n",
    "    \"closing\":['Bye! Glad to be of assistance to you']\n",
    "}"
   ]
  },
  {
   "cell_type": "markdown",
   "id": "0bb34a36",
   "metadata": {},
   "source": [
    "# Generating responses based on user input\n",
    "###### Only works when user enters one word\n",
    "###### To do: Work on when user enters multiple words"
   ]
  },
  {
   "cell_type": "code",
   "execution_count": null,
   "id": "51b1de66",
   "metadata": {},
   "outputs": [
    {
     "name": "stdout",
     "output_type": "stream",
     "text": [
      "CHATBOT\n",
      "Hi\n",
      "Chatbot:  Hello, my name is ChatBot. How may I help you?\n",
      "CHATBOT\n",
      "working\n",
      "Chatbot:  I work from 9AM to 9PM\n",
      "CHATBOT\n",
      "thanks\n",
      "Chatbot:  You are welcome\n",
      "CHATBOT\n",
      "Bye\n",
      "Chatbot:  Bye! Glad to be of assistance to you\n",
      "CHATBOT\n"
     ]
    }
   ],
   "source": [
    "while True:\n",
    "    print(\"CHATBOT\")\n",
    "    q = input()\n",
    "    q = q.lower()\n",
    "    #q = q.split(' ')\n",
    "    selected_intent = ''\n",
    "    \n",
    "    for intent, keywords in intents.items():\n",
    "        #print(intent, keywords)\n",
    "        if q in keywords:\n",
    "            selected_intent += intent # selected intents = greeting_intent, thanks_intent, close.... \n",
    "            break\n",
    "    print(\"Chatbot: \", random.choice(responses[selected_intent]))\n",
    "            "
   ]
  }
 ],
 "metadata": {
  "kernelspec": {
   "display_name": "Python 3 (ipykernel)",
   "language": "python",
   "name": "python3"
  },
  "language_info": {
   "codemirror_mode": {
    "name": "ipython",
    "version": 3
   },
   "file_extension": ".py",
   "mimetype": "text/x-python",
   "name": "python",
   "nbconvert_exporter": "python",
   "pygments_lexer": "ipython3",
   "version": "3.10.3"
  }
 },
 "nbformat": 4,
 "nbformat_minor": 5
}
